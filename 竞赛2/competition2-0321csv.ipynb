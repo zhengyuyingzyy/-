{
 "cells": [
  {
   "cell_type": "code",
   "execution_count": 1,
   "metadata": {},
   "outputs": [
    {
     "name": "stderr",
     "output_type": "stream",
     "text": [
      "E:\\newpyth\\lib\\site-packages\\sklearn\\neural_network\\multilayer_perceptron.py:912: DataConversionWarning: A column-vector y was passed when a 1d array was expected. Please change the shape of y to (n_samples, ), for example using ravel().\n",
      "  y = column_or_1d(y, warn=True)\n"
     ]
    },
    {
     "name": "stdout",
     "output_type": "stream",
     "text": [
      "478\n"
     ]
    }
   ],
   "source": [
    "import pandas as pd\n",
    "import numpy as np\n",
    "\n",
    "col = (0,1,2,3,4,5,6,7,8,9,10,11,12,13)\n",
    "data = pd.read_csv('train.csv',names = col)\n",
    "data.replace(\"?\",np.nan,inplace = True)\n",
    "from sklearn.preprocessing import Imputer\n",
    "imp = Imputer(missing_values = np.nan,strategy = 'mean')#平均数代替\n",
    "newdata = imp.fit_transform(data)\n",
    "newdata = round(pd.DataFrame(newdata))#四舍五入\n",
    "newdata = np.array(newdata)#转化为数组\n",
    "\n",
    "col2 = (0,1,2,3,4,5,6,7,8,9,10,11,12)\n",
    "testdata = pd.read_csv('test.csv',names = col2)\n",
    "testdata.replace(\"?\",np.nan,inplace = True)\n",
    "newtestdata = imp.fit_transform(testdata)\n",
    "newtestdata = round(pd.DataFrame(newtestdata))\n",
    "newtestdata = np.array(newtestdata)\n",
    "\n",
    "#划分训练集\n",
    "X = newdata[:,:-1]\n",
    "#训练集X\n",
    "y = newdata[:,-1:]\n",
    "#训练集y\n",
    "\n",
    "#单变量特征选择\n",
    "from sklearn.feature_selection import SelectKBest\n",
    "from sklearn.feature_selection import chi2\n",
    "X_new = SelectKBest(chi2, k=9).fit_transform(X, y)\n",
    "\n",
    "#对筛选之后的数据划分训练集和测试集\n",
    "from sklearn.model_selection import train_test_split\n",
    "train_X, test_X, train_y, test_y = train_test_split(X_new, y, test_size=0.3) \n",
    "\n",
    "#神经网络\n",
    "from sklearn.neural_network import MLPClassifier\n",
    "mlp = MLPClassifier()  \n",
    "mlp.fit(train_X,train_y)\n",
    "pre_y = mlp.predict(test_X)\n",
    "result = test_y[:,0] - pre_y\n",
    "acc = 0\n",
    "for i in range(1439):\n",
    "    if(result[i] == 0):\n",
    "        acc += 1\n",
    "print(acc)\n",
    "\n",
    "\n",
    "#对测试集进行处理\n",
    "\n",
    "we = newtestdata[:,[1,2,3,4,6,7,8,9,10]]\n",
    "ew = mlp.predict(we)\n",
    "\n",
    "#将数据改为int类型\n",
    "ew1 = []\n",
    "for i in range(len(ew)):\n",
    "    ew1.append(int(ew[i]))\n",
    "    \n",
    "test = pd.DataFrame(data = ew1,index = range(1,1799),columns=['y'])\n",
    "test.index.name = 'id'\n",
    "test.to_csv('newfirst0321.csv')"
   ]
  },
  {
   "cell_type": "code",
   "execution_count": null,
   "metadata": {},
   "outputs": [],
   "source": []
  }
 ],
 "metadata": {
  "kernelspec": {
   "display_name": "Python 3",
   "language": "python",
   "name": "python3"
  },
  "language_info": {
   "codemirror_mode": {
    "name": "ipython",
    "version": 3
   },
   "file_extension": ".py",
   "mimetype": "text/x-python",
   "name": "python",
   "nbconvert_exporter": "python",
   "pygments_lexer": "ipython3",
   "version": "3.7.0"
  }
 },
 "nbformat": 4,
 "nbformat_minor": 2
}
